{
 "cells": [
  {
   "cell_type": "markdown",
   "id": "f636f057",
   "metadata": {},
   "source": [
    "# Struggling with Pandas"
   ]
  },
  {
   "cell_type": "code",
   "execution_count": null,
   "id": "25583270",
   "metadata": {},
   "outputs": [],
   "source": [
    "# Run this cell, but please don't change it.\n",
    "\n",
    "# These lines import the Numpy and Pandas modules.\n",
    "import numpy as np\n",
    "import pandas as pd\n",
    "\n",
    "# Safe Pandas\n",
    "pd.set_option('mode.chained_assignment','raise')\n",
    "\n",
    "# These lines load the tests.\n",
    "from client.api.notebook import Notebook\n",
    "ok = Notebook('pandas_struggles.ok')"
   ]
  },
  {
   "cell_type": "markdown",
   "id": "45ac7610",
   "metadata": {},
   "source": [
    "At the moment, the line below will cause a nasty error.\n",
    "\n",
    "Try a different [encoding](https://uob-ds.github.io/cfd2021/wild-pandas/text_encoding) to load this file correctly."
   ]
  },
  {
   "cell_type": "code",
   "execution_count": null,
   "id": "f43a48ee",
   "metadata": {},
   "outputs": [],
   "source": [
    "#- Modify the line below to make the file load correctly.\n",
    "my_data = pd.read_csv('nasty_stuff.csv')"
   ]
  },
  {
   "cell_type": "markdown",
   "id": "a1c75ecd",
   "metadata": {},
   "source": [
    "Here is the contents of the data frame:"
   ]
  },
  {
   "cell_type": "code",
   "execution_count": null,
   "id": "a302ddbf",
   "metadata": {},
   "outputs": [],
   "source": [
    "my_data"
   ]
  },
  {
   "cell_type": "markdown",
   "id": "5b43805d",
   "metadata": {},
   "source": [
    "We want the mean 'Cost'.  At the moment this will generate an error.  Try it:"
   ]
  },
  {
   "cell_type": "code",
   "execution_count": null,
   "id": "a44bfd51",
   "metadata": {
    "tags": [
     "raises-exception"
    ]
   },
   "outputs": [],
   "source": [
    "my_data['Cost'].mean()"
   ]
  },
  {
   "cell_type": "markdown",
   "id": "484865f3",
   "metadata": {},
   "source": [
    "Show the data types of the columns with the `dtypes` attribute of the data\n",
    "frame:"
   ]
  },
  {
   "cell_type": "code",
   "execution_count": null,
   "id": "b02c4d00",
   "metadata": {},
   "outputs": [],
   "source": [
    "..."
   ]
  },
  {
   "cell_type": "markdown",
   "id": "8f2474e0",
   "metadata": {},
   "source": [
    "You will have found that the column type of 'Cost' is 'object' - meaning that it is not, as you hoped, a number type such as `int` or `float`."
   ]
  },
  {
   "cell_type": "markdown",
   "id": "4b7c2a6f",
   "metadata": {},
   "source": [
    "Make copy of the data frame using the `copy` attribute of `my_data`:"
   ]
  },
  {
   "cell_type": "code",
   "execution_count": null,
   "id": "46512942",
   "metadata": {},
   "outputs": [],
   "source": [
    "fixed_data = ..."
   ]
  },
  {
   "cell_type": "code",
   "execution_count": null,
   "id": "e635ba81",
   "metadata": {},
   "outputs": [],
   "source": [
    "_ = ok.grade('q_fixed_data')"
   ]
  },
  {
   "cell_type": "markdown",
   "id": "2367d99e",
   "metadata": {},
   "source": [
    "Fetch the 'Cost' column of `fixed_data` as a Series.  Don't forget to make this a copy."
   ]
  },
  {
   "cell_type": "code",
   "execution_count": null,
   "id": "7cdfe027",
   "metadata": {},
   "outputs": [],
   "source": [
    "fixed_cost = ...\n",
    "fixed_cost"
   ]
  },
  {
   "cell_type": "markdown",
   "id": "25b542f1",
   "metadata": {},
   "source": [
    "Use `.loc` to set value with index label 2 of 'fixed_cost' to `np.nan`, meaning, a missing value.  Then use the Pandas `to_numeric` function to convert `fixed_cost` to a numeric type."
   ]
  },
  {
   "cell_type": "code",
   "execution_count": null,
   "id": "4db49995",
   "metadata": {},
   "outputs": [],
   "source": [
    "fixed_cost...\n",
    "fixed_cost"
   ]
  },
  {
   "cell_type": "code",
   "execution_count": null,
   "id": "58602c40",
   "metadata": {},
   "outputs": [],
   "source": [
    "_ = ok.grade('q_fixed_cost')"
   ]
  },
  {
   "cell_type": "markdown",
   "id": "8e94a2cc",
   "metadata": {},
   "source": [
    "Finally use `loc` to replace the 'Cost' column in `fixed_data` and calculate the mean of the `fixed_data` 'Cost' column:"
   ]
  },
  {
   "cell_type": "code",
   "execution_count": null,
   "id": "5b9cfbd0",
   "metadata": {},
   "outputs": [],
   "source": [
    "mean_cost = ...\n",
    "mean_cost"
   ]
  },
  {
   "cell_type": "code",
   "execution_count": null,
   "id": "e1ab72e7",
   "metadata": {},
   "outputs": [],
   "source": [
    "_ = ok.grade('q_mean_cost')"
   ]
  },
  {
   "cell_type": "markdown",
   "id": "6a811a97",
   "metadata": {},
   "source": [
    "## IMDB again\n",
    "\n",
    "Modify the cell below to load the `imdblet_latin.csv` file correctly."
   ]
  },
  {
   "cell_type": "code",
   "execution_count": null,
   "id": "07b24ca1",
   "metadata": {},
   "outputs": [],
   "source": [
    "films = pd.read_csv('imdblet_latin.csv')\n",
    "films.head()"
   ]
  },
  {
   "cell_type": "markdown",
   "id": "47740a62",
   "metadata": {},
   "source": [
    "Put the `Votes` column into its own Series with variable name `votes`. Don't\n",
    "forget \"copy right\"."
   ]
  },
  {
   "cell_type": "code",
   "execution_count": null,
   "id": "4a26c3a9",
   "metadata": {},
   "outputs": [],
   "source": [
    "votes = ...\n",
    "votes.head()"
   ]
  },
  {
   "cell_type": "code",
   "execution_count": null,
   "id": "ce41d925",
   "metadata": {},
   "outputs": [],
   "source": [
    "_ = ok.grade('q_votes')"
   ]
  },
  {
   "cell_type": "markdown",
   "id": "4ec1d933",
   "metadata": {},
   "source": [
    "One of the values has a colon in its text, so it cannot be converted to a number.  You can detect that situation with:"
   ]
  },
  {
   "cell_type": "code",
   "execution_count": null,
   "id": "fda6ffa1",
   "metadata": {},
   "outputs": [],
   "source": [
    "bad_val = '29395:4'\n",
    "':' in bad_val"
   ]
  },
  {
   "cell_type": "markdown",
   "id": "b1b38bb3",
   "metadata": {},
   "source": [
    "Write a recoding function to replace any values containing colons with `np.nan` (the missing value), and otherwise, convert the value to an `int`."
   ]
  },
  {
   "cell_type": "code",
   "execution_count": null,
   "id": "05011001",
   "metadata": {},
   "outputs": [],
   "source": [
    "def dump_colons(v):\n",
    "    ..."
   ]
  },
  {
   "cell_type": "markdown",
   "id": "af3bd338",
   "metadata": {},
   "source": [
    "Test your function with:"
   ]
  },
  {
   "cell_type": "code",
   "execution_count": null,
   "id": "936a3115",
   "metadata": {},
   "outputs": [],
   "source": [
    "print(dump_colons('32'))\n",
    "print(dump_colons('901'))\n",
    "print(dump_colons('901:3'))\n",
    "print(dump_colons('1:30'))"
   ]
  },
  {
   "cell_type": "code",
   "execution_count": null,
   "id": "da528826",
   "metadata": {},
   "outputs": [],
   "source": [
    "_ = ok.grade('q_dump_colons')"
   ]
  },
  {
   "cell_type": "markdown",
   "id": "bc0edd42",
   "metadata": {},
   "source": [
    "`apply` your function to the `votes` series to replace the bad value, with a colon:"
   ]
  },
  {
   "cell_type": "code",
   "execution_count": null,
   "id": "27ae527d",
   "metadata": {},
   "outputs": [],
   "source": [
    "fixed_votes = ...\n",
    "fixed_votes.tail()"
   ]
  },
  {
   "cell_type": "code",
   "execution_count": null,
   "id": "31bdc88a",
   "metadata": {},
   "outputs": [],
   "source": [
    "_ = ok.grade('q_fixed_votes')"
   ]
  },
  {
   "cell_type": "markdown",
   "id": "cfbc04df",
   "metadata": {},
   "source": [
    "Make a copy of the `films` data frame called `films_refixed`, and insert the fixed votes column."
   ]
  },
  {
   "cell_type": "code",
   "execution_count": null,
   "id": "62ba563b",
   "metadata": {},
   "outputs": [],
   "source": [
    "films_refixed = ...\n",
    "films_refixed.tail()"
   ]
  },
  {
   "cell_type": "code",
   "execution_count": null,
   "id": "e3ee7662",
   "metadata": {},
   "outputs": [],
   "source": [
    "_ = ok.grade('q_films_refixed')"
   ]
  },
  {
   "cell_type": "markdown",
   "id": "ef7389f9",
   "metadata": {},
   "source": [
    "Calculate the mean of the not-NaN votes."
   ]
  },
  {
   "cell_type": "code",
   "execution_count": null,
   "id": "e50789f0",
   "metadata": {},
   "outputs": [],
   "source": [
    "mean_votes = ...\n",
    "mean_votes"
   ]
  },
  {
   "cell_type": "code",
   "execution_count": null,
   "id": "0c64a99c",
   "metadata": {},
   "outputs": [],
   "source": [
    "_ = ok.grade('q_mean_votes')"
   ]
  },
  {
   "cell_type": "markdown",
   "id": "1bf1bac0",
   "metadata": {},
   "source": [
    "## Done\n",
    "\n",
    "You're finished with the assignment!  Be sure to...\n",
    "\n",
    "- **run all the tests** (the next cell has a shortcut for that),\n",
    "- **Save and Checkpoint** from the \"File\" menu.\n",
    "- Finally, **restart** the kernel for this notebook, and **run all the\n",
    "  cells**, to check that the notebook still works without errors.  Use the\n",
    "  \"Kernel\" menu, and choose \"Restart and run all\".  If you find any problems,\n",
    "  go back and fix them, save the notebook, and restart / run all again, before\n",
    "  submitting.  When you do this, you make sure that we, your humble markers,\n",
    "  will be able to mark your notebook."
   ]
  }
 ],
 "metadata": {
  "jupytext": {
   "split_at_heading": true,
   "text_representation": {
    "extension": ".Rmd",
    "format_name": "rmarkdown",
    "format_version": "1.1",
    "jupytext_version": "1.2.4"
   }
  },
  "kernelspec": {
   "display_name": "Python 3",
   "language": "python",
   "name": "python3"
  }
 },
 "nbformat": 4,
 "nbformat_minor": 5
}
