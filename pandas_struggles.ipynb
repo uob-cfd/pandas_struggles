{
 "cells": [
  {
   "cell_type": "markdown",
   "id": "63b749a8",
   "metadata": {},
   "source": [
    "# Struggling with Pandas"
   ]
  },
  {
   "cell_type": "code",
   "execution_count": null,
   "id": "0da7da8c",
   "metadata": {},
   "outputs": [],
   "source": [
    "# Run this cell, but please don't change it.\n",
    "\n",
    "# These lines import the Numpy and Pandas modules.\n",
    "import numpy as np\n",
    "import pandas as pd\n",
    "\n",
    "# Safe Pandas\n",
    "pd.set_option('mode.chained_assignment','raise')\n",
    "\n",
    "# These lines load the tests.\n",
    "from client.api.notebook import Notebook\n",
    "ok = Notebook('pandas_struggles.ok')"
   ]
  },
  {
   "cell_type": "markdown",
   "id": "d2a9de03",
   "metadata": {},
   "source": [
    "At the moment, the line below will cause a nasty error.\n",
    "\n",
    "Try a different [encoding](https://uob-ds.github.io/cfd2021/wild-pandas/text_encoding) to load this file correctly."
   ]
  },
  {
   "cell_type": "code",
   "execution_count": null,
   "id": "e09740fa",
   "metadata": {},
   "outputs": [],
   "source": [
    "#- Modify the line below to make the file load correctly.\n",
    "my_data = pd.read_csv('nasty_stuff.csv')"
   ]
  },
  {
   "cell_type": "markdown",
   "id": "e43d582b",
   "metadata": {},
   "source": [
    "Here is the contents of the data frame:"
   ]
  },
  {
   "cell_type": "code",
   "execution_count": null,
   "id": "1253756f",
   "metadata": {},
   "outputs": [],
   "source": [
    "my_data"
   ]
  },
  {
   "cell_type": "markdown",
   "id": "ab9ae67d",
   "metadata": {},
   "source": [
    "We want the mean 'Cost'.  At the moment this will generate an error.  Try it:"
   ]
  },
  {
   "cell_type": "code",
   "execution_count": null,
   "id": "8c36de12",
   "metadata": {
    "tags": [
     "raises-exception"
    ]
   },
   "outputs": [],
   "source": [
    "my_data['Cost'].mean()"
   ]
  },
  {
   "cell_type": "markdown",
   "id": "692b263d",
   "metadata": {},
   "source": [
    "Show the data types of the columns with the `dtypes` attribute of the data\n",
    "frame:"
   ]
  },
  {
   "cell_type": "code",
   "execution_count": null,
   "id": "61b66bd5",
   "metadata": {},
   "outputs": [],
   "source": [
    "..."
   ]
  },
  {
   "cell_type": "markdown",
   "id": "5e6a166a",
   "metadata": {},
   "source": [
    "You will have found that the column type of 'Cost' is 'object' - meaning that it is not, as you hoped, a number type such as `int` or `float`."
   ]
  },
  {
   "cell_type": "markdown",
   "id": "5fdfc0a7",
   "metadata": {},
   "source": [
    "Make copy of the data frame using the `copy` attribute of `my_data`:"
   ]
  },
  {
   "cell_type": "code",
   "execution_count": null,
   "id": "c1740f53",
   "metadata": {},
   "outputs": [],
   "source": [
    "fixed_data = ..."
   ]
  },
  {
   "cell_type": "code",
   "execution_count": null,
   "id": "87a6530c",
   "metadata": {},
   "outputs": [],
   "source": [
    "_ = ok.grade('q_fixed_data')"
   ]
  },
  {
   "cell_type": "markdown",
   "id": "149d3f84",
   "metadata": {},
   "source": [
    "Fetch the 'Cost' column of `fixed_data` as a Series.  Don't forget to make this a copy."
   ]
  },
  {
   "cell_type": "code",
   "execution_count": null,
   "id": "97450783",
   "metadata": {},
   "outputs": [],
   "source": [
    "fixed_cost = ...\n",
    "fixed_cost"
   ]
  },
  {
   "cell_type": "markdown",
   "id": "1bae0428",
   "metadata": {},
   "source": [
    "Use `.loc` to set value with index label 2 of 'fixed_cost' to `np.nan`, meaning, a missing value.  Then use the Pandas `to_numeric` function to convert `fixed_cost` to a numeric type."
   ]
  },
  {
   "cell_type": "code",
   "execution_count": null,
   "id": "89511069",
   "metadata": {},
   "outputs": [],
   "source": [
    "fixed_cost...\n",
    "fixed_cost"
   ]
  },
  {
   "cell_type": "code",
   "execution_count": null,
   "id": "6e797121",
   "metadata": {},
   "outputs": [],
   "source": [
    "_ = ok.grade('q_fixed_cost')"
   ]
  },
  {
   "cell_type": "markdown",
   "id": "766e3064",
   "metadata": {},
   "source": [
    "Finally use `loc` to replace the 'Cost' column in `fixed_data` and calculate the mean of the `fixed_data` 'Cost' column:"
   ]
  },
  {
   "cell_type": "code",
   "execution_count": null,
   "id": "95978a27",
   "metadata": {},
   "outputs": [],
   "source": [
    "mean_cost = ...\n",
    "mean_cost"
   ]
  },
  {
   "cell_type": "code",
   "execution_count": null,
   "id": "15c80478",
   "metadata": {},
   "outputs": [],
   "source": [
    "_ = ok.grade('q_mean_cost')"
   ]
  },
  {
   "cell_type": "markdown",
   "id": "d70eebc9",
   "metadata": {},
   "source": [
    "## IMDB again\n",
    "\n",
    "Modify the cell below to load the `imdblet_latin.csv` file correctly."
   ]
  },
  {
   "cell_type": "code",
   "execution_count": null,
   "id": "1fe9ff0c",
   "metadata": {},
   "outputs": [],
   "source": [
    "films = pd.read_csv('imdblet_latin.csv')\n",
    "films.head()"
   ]
  },
  {
   "cell_type": "markdown",
   "id": "eb08acfb",
   "metadata": {},
   "source": [
    "Put the `Votes` column into its own Series with variable name `votes`. Don't\n",
    "forget \"copy right\"."
   ]
  },
  {
   "cell_type": "code",
   "execution_count": null,
   "id": "380a0c40",
   "metadata": {},
   "outputs": [],
   "source": [
    "votes = ...\n",
    "votes.head()"
   ]
  },
  {
   "cell_type": "code",
   "execution_count": null,
   "id": "38550e5d",
   "metadata": {},
   "outputs": [],
   "source": [
    "_ = ok.grade('q_votes')"
   ]
  },
  {
   "cell_type": "markdown",
   "id": "46b3835c",
   "metadata": {},
   "source": [
    "One of the values has a colon in its text, so it cannot be converted to a number.  You can detect that situation with:"
   ]
  },
  {
   "cell_type": "code",
   "execution_count": null,
   "id": "bb6b7a8d",
   "metadata": {},
   "outputs": [],
   "source": [
    "bad_val = '29395:4'\n",
    "':' in bad_val"
   ]
  },
  {
   "cell_type": "markdown",
   "id": "b7ec601d",
   "metadata": {},
   "source": [
    "Write a recoding function to replace any values containing colons with `np.nan` (the missing value), and otherwise, convert the value to an `int`."
   ]
  },
  {
   "cell_type": "code",
   "execution_count": null,
   "id": "d273d92f",
   "metadata": {},
   "outputs": [],
   "source": [
    "def dump_colons(v):\n",
    "    ..."
   ]
  },
  {
   "cell_type": "markdown",
   "id": "830a9189",
   "metadata": {},
   "source": [
    "Test your function with:"
   ]
  },
  {
   "cell_type": "code",
   "execution_count": null,
   "id": "25a1c4e3",
   "metadata": {},
   "outputs": [],
   "source": [
    "print(dump_colons('32'))\n",
    "print(dump_colons('901'))\n",
    "print(dump_colons('901:3'))\n",
    "print(dump_colons('1:30'))"
   ]
  },
  {
   "cell_type": "code",
   "execution_count": null,
   "id": "d94c36d9",
   "metadata": {},
   "outputs": [],
   "source": [
    "_ = ok.grade('q_dump_colons')"
   ]
  },
  {
   "cell_type": "markdown",
   "id": "df143bb5",
   "metadata": {},
   "source": [
    "`apply` your function to the `votes` series to replace the bad value, with a colon:"
   ]
  },
  {
   "cell_type": "code",
   "execution_count": null,
   "id": "bbb01ab3",
   "metadata": {},
   "outputs": [],
   "source": [
    "fixed_votes = ...\n",
    "fixed_votes.tail()"
   ]
  },
  {
   "cell_type": "code",
   "execution_count": null,
   "id": "4d1588b6",
   "metadata": {},
   "outputs": [],
   "source": [
    "_ = ok.grade('q_fixed_votes')"
   ]
  },
  {
   "cell_type": "markdown",
   "id": "d603e15f",
   "metadata": {},
   "source": [
    "Make a copy of the `films` data frame called `films_refixed`, and insert the fixed votes column."
   ]
  },
  {
   "cell_type": "code",
   "execution_count": null,
   "id": "2e57c61e",
   "metadata": {},
   "outputs": [],
   "source": [
    "films_refixed = ...\n",
    "films_refixed.tail()"
   ]
  },
  {
   "cell_type": "code",
   "execution_count": null,
   "id": "18f57fae",
   "metadata": {},
   "outputs": [],
   "source": [
    "_ = ok.grade('q_films_refixed')"
   ]
  },
  {
   "cell_type": "markdown",
   "id": "3c0f02f8",
   "metadata": {},
   "source": [
    "Calculate the mean of the not-NaN votes."
   ]
  },
  {
   "cell_type": "code",
   "execution_count": null,
   "id": "64c52faa",
   "metadata": {},
   "outputs": [],
   "source": [
    "mean_votes = ...\n",
    "mean_votes"
   ]
  },
  {
   "cell_type": "code",
   "execution_count": null,
   "id": "bca3152b",
   "metadata": {},
   "outputs": [],
   "source": [
    "_ = ok.grade('q_mean_votes')"
   ]
  },
  {
   "cell_type": "markdown",
   "id": "9ae47793",
   "metadata": {},
   "source": [
    "## Done\n",
    "\n",
    "You're finished with the assignment!  Be sure to...\n",
    "\n",
    "- **run all the tests** (the next cell has a shortcut for that),\n",
    "- **Save and Checkpoint** from the \"File\" menu.\n",
    "- Finally, **restart** the kernel for this notebook, and **run all the\n",
    "  cells**, to check that the notebook still works without errors.  Use the\n",
    "  \"Kernel\" menu, and choose \"Restart and run all\".  If you find any problems,\n",
    "  go back and fix them, save the notebook, and restart / run all again, before\n",
    "  submitting.  When you do this, you make sure that we, your humble markers,\n",
    "  will be able to mark your notebook."
   ]
  }
 ],
 "metadata": {
  "jupytext": {
   "split_at_heading": true,
   "text_representation": {
    "extension": ".Rmd",
    "format_name": "rmarkdown",
    "format_version": "1.1",
    "jupytext_version": "1.2.4"
   }
  },
  "kernelspec": {
   "display_name": "Python 3",
   "language": "python",
   "name": "python3"
  }
 },
 "nbformat": 4,
 "nbformat_minor": 5
}
